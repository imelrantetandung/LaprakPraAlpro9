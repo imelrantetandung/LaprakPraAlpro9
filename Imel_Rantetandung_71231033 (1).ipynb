{
  "nbformat": 4,
  "nbformat_minor": 0,
  "metadata": {
    "colab": {
      "provenance": []
    },
    "kernelspec": {
      "name": "python3",
      "display_name": "Python 3"
    },
    "language_info": {
      "name": "python"
    }
  },
  "cells": [
    {
      "cell_type": "code",
      "execution_count": null,
      "metadata": {
        "id": "2yn20nn7yqWp"
      },
      "outputs": [],
      "source": [
        "#SOAL NO 1\n",
        "f1 = open(\"file1.txt\", \"r\")\n",
        "f2 = open(\"file2.txt\", \"r\")\n",
        "\n",
        "f1_data = f1.readlines()\n",
        "f2_data = f2.readlines()\n",
        "\n",
        "i = 0\n",
        "\n",
        "for line1 in f1_data:\n",
        "\ti += 1\n",
        "\n",
        "\tfor line2 in f2_data:\n",
        "\t\tif line1 == line2:\n",
        "\t\t\tprint(\"Line \", i, \": sama pada baris\", i)\n",
        "\t\telse:\n",
        "\t\t\tprint(\"Line \", i, \": berbeda pada baris\", i)\n",
        "\t\t\tprint(\"\\tFile 1:\", line1, end='')\n",
        "\t\t\tprint(\"\\tFile 2:\", line2, end='')\n",
        "\t\tbreak\n",
        "f1.close()\n",
        "f2.close()\n"
      ]
    },
    {
      "cell_type": "code",
      "source": [
        "#SOAL NO 2\n",
        "with open('soal.txt', 'r') as file:\n",
        "    lines = file.readlines()\n",
        "\n",
        "print(\"Nama file1: soal.txt\")\n",
        "for line in lines:\n",
        "    soal, jawaban = line.strip().split(\" || \")\n",
        "    print(soal)\n",
        "    jawab = input(\"Jawab: \").strip()\n",
        "    if jawab.lower() == jawaban.lower():\n",
        "        print(\"Jawaban benar!\")\n",
        "    else:\n",
        "        print(\"Jawaban salah!\")\n",
        "    print()\n"
      ],
      "metadata": {
        "id": "35tzmuOtzd6-"
      },
      "execution_count": null,
      "outputs": []
    }
  ]
}